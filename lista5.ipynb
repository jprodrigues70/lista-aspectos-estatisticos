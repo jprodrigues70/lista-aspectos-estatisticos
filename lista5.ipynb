{
 "cells": [
  {
   "cell_type": "markdown",
   "metadata": {},
   "source": [
    "## Questão 5\n",
    "### a)"
   ]
  },
  {
   "cell_type": "code",
   "execution_count": 1,
   "metadata": {},
   "outputs": [],
   "source": [
    "import numpy as np"
   ]
  },
  {
   "cell_type": "code",
   "execution_count": 2,
   "metadata": {},
   "outputs": [],
   "source": [
    "b1 = [20,6,10,12,15,7,9,10]\n",
    "a = [17,12,9,11,14,12]\n",
    "b2 = [21,18,8,13,17,17]"
   ]
  },
  {
   "cell_type": "code",
   "execution_count": 3,
   "metadata": {},
   "outputs": [
    {
     "name": "stdout",
     "output_type": "stream",
     "text": [
      "media sistema B na literatura: 11.125\n",
      "desvio padrão sistema B na literatura: 4.54933276112317\n",
      "coeficiente de variação sistema B na literatura: 0.4089287875166895\n",
      "\n",
      "media sistema A: 12.5\n",
      "desvio padrão sistema A: 2.7386127875258306\n",
      "coeficiente de variação sistema A: 0.21908902300206645\n",
      "\n",
      "media sistema B novos resultados: 15.666666666666666\n",
      "desvio padrão sistema B novos resultados: 4.546060565661953\n",
      "coeficiente de variação sistema B novos resultados: 0.2901740786592736\n"
     ]
    }
   ],
   "source": [
    "print(f'media sistema B na literatura: {np.mean(b1)}')\n",
    "print(f'desvio padrão sistema B na literatura: {np.std(b1, ddof=1)}')\n",
    "print(f'coeficiente de variação sistema B na literatura: {np.std(b1, ddof=1)/np.mean(b1)}')\n",
    "print()\n",
    "print(f'media sistema A: {np.mean(a)}')\n",
    "print(f'desvio padrão sistema A: {np.std(a, ddof=1)}')\n",
    "print(f'coeficiente de variação sistema A: {np.std(a, ddof=1)/np.mean(a)}')\n",
    "print()\n",
    "print(f'media sistema B novos resultados: {np.mean(b2)}')\n",
    "print(f'desvio padrão sistema B novos resultados: {np.std(b2, ddof=1)}')\n",
    "print(f'coeficiente de variação sistema B novos resultados: {np.std(b2, ddof=1)/np.mean(b2)}')"
   ]
  },
  {
   "cell_type": "markdown",
   "metadata": {},
   "source": [
    "#### Logo, o sistema A parece ser o mais previsível"
   ]
  }
 ],
 "metadata": {
  "kernelspec": {
   "display_name": "Python 3",
   "language": "python",
   "name": "python3"
  },
  "language_info": {
   "codemirror_mode": {
    "name": "ipython",
    "version": 3
   },
   "file_extension": ".py",
   "mimetype": "text/x-python",
   "name": "python",
   "nbconvert_exporter": "python",
   "pygments_lexer": "ipython3",
   "version": "3.8.5"
  }
 },
 "nbformat": 4,
 "nbformat_minor": 4
}
