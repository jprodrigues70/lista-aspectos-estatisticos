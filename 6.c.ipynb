{
 "cells": [
  {
   "cell_type": "markdown",
   "id": "67ecfe4b-c0f8-4da8-bb25-2fe543a763e7",
   "metadata": {
    "tags": []
   },
   "source": [
    "### 6.c)"
   ]
  },
  {
   "cell_type": "code",
   "execution_count": 2,
   "id": "a2209fef-084b-4f23-8513-9c1895ae6b59",
   "metadata": {},
   "outputs": [
    {
     "name": "stdout",
     "output_type": "stream",
     "text": [
      "_p = 0.47\n",
      "Para 90%, temos A(z) = 1 - ((1 - 0.9)/2) = 0.95\n",
      "Olhando para a tabela da normal, temos z = 1.64\n",
      "\n",
      "Intervalo de Confiança: [ 0.4463712858298778 ; 0.49362871417012216 ]\n"
     ]
    }
   ],
   "source": [
    "import math\n",
    "def calcular_ic_conservativo(_p,z,n):\n",
    "    esquerda = _p - (z*math.sqrt((_p*(1 - _p))/n))\n",
    "    direita = _p + (z*math.sqrt((_p*(1 - _p))/n))\n",
    "    print(\"\\nIntervalo de Confiança: [\", esquerda, \";\", direita, \"]\")\n",
    "\n",
    "n = 1200\n",
    "a = 0.05\n",
    "\n",
    "_p = 564/1200\n",
    "print(\"_p =\", _p)\n",
    "print(\"Para 90%, temos A(z) = 1 - ((1 - 0.9)/2) =\", 1 - ((1 - 0.9)/2))\n",
    "print(\"Olhando para a tabela da normal, temos z = 1.64\")\n",
    "calcular_ic_conservativo(_p, 1.64, 1200)\n"
   ]
  }
 ],
 "metadata": {
  "kernelspec": {
   "display_name": "Python 3",
   "language": "python",
   "name": "python3"
  },
  "language_info": {
   "codemirror_mode": {
    "name": "ipython",
    "version": 3
   },
   "file_extension": ".py",
   "mimetype": "text/x-python",
   "name": "python",
   "nbconvert_exporter": "python",
   "pygments_lexer": "ipython3",
   "version": "3.8.8"
  }
 },
 "nbformat": 4,
 "nbformat_minor": 5
}
