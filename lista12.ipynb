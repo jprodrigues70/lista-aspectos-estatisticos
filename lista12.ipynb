{
 "cells": [
  {
   "cell_type": "markdown",
   "metadata": {},
   "source": [
    "## Questão 12\n",
    "### Letras a e b"
   ]
  },
  {
   "cell_type": "code",
   "execution_count": 8,
   "metadata": {},
   "outputs": [],
   "source": [
    "peso <- c(12,13,14,14,16,18,19,22,24,26)\n",
    "consumo <- c(16,14,14,13,11,12,9,9,8,6)"
   ]
  },
  {
   "cell_type": "code",
   "execution_count": 12,
   "metadata": {},
   "outputs": [
    {
     "name": "stdout",
     "output_type": "stream",
     "text": [
      "\n",
      "\tPearson's product-moment correlation\n",
      "\n",
      "data:  peso and consumo\n",
      "t = -9.5085, df = 8, p-value = 1.235e-05\n",
      "alternative hypothesis: true correlation is not equal to 0\n",
      "95 percent confidence interval:\n",
      " -0.9904127 -0.8294079\n",
      "sample estimates:\n",
      "       cor \n",
      "-0.9584929 \n",
      "\n"
     ]
    }
   ],
   "source": [
    "c = cor.test(peso, consumo, method = c(\"pearson\"))\n",
    "print(c)"
   ]
  },
  {
   "cell_type": "markdown",
   "metadata": {},
   "source": [
    "#### Logo, há correlação negativa forte entre as variáveis"
   ]
  },
  {
   "cell_type": "markdown",
   "metadata": {},
   "source": [
    "### Letra C\n",
    "#### A variável dependente deve ser o \"consumo de combustível\" pois é a variável que iremos querer estudar com uma regressão linear, que vai ser influenciada pela variável independente \"peso\""
   ]
  },
  {
   "cell_type": "markdown",
   "metadata": {},
   "source": [
    "### Letras D e E"
   ]
  },
  {
   "cell_type": "code",
   "execution_count": 24,
   "metadata": {},
   "outputs": [
    {
     "data": {
      "text/plain": [
       "\n",
       "Call:\n",
       "lm(formula = consumo ~ peso)\n",
       "\n",
       "Coefficients:\n",
       "(Intercept)         peso  \n",
       "    22.2500      -0.6208  \n"
      ]
     },
     "metadata": {},
     "output_type": "display_data"
    }
   ],
   "source": [
    "linearR = lm(consumo ~ peso)\n",
    "linearR"
   ]
  },
  {
   "cell_type": "code",
   "execution_count": 25,
   "metadata": {},
   "outputs": [
    {
     "data": {
      "image/png": "[encoded data removed]",
      "text/plain": [
       "plot without title"
      ]
     },
     "metadata": {
      "image/png": {
       "height": 420,
       "width": 420
      }
     },
     "output_type": "display_data"
    }
   ],
   "source": [
    "plot(peso, consumo, abline(linearR))"
   ]
  },
  {
   "cell_type": "markdown",
   "metadata": {},
   "source": [
    "#### A equação de regressão é: $consumo = 22.25 - 0.6208*peso$"
   ]
  },
  {
   "cell_type": "markdown",
   "metadata": {},
   "source": [
    "### Letra F"
   ]
  },
  {
   "cell_type": "code",
   "execution_count": 26,
   "metadata": {},
   "outputs": [
    {
     "name": "stdout",
     "output_type": "stream",
     "text": [
      "[1] 9.834\n"
     ]
    }
   ],
   "source": [
    "c = 22.25 - (0.6208*20)\n",
    "print(c)"
   ]
  },
  {
   "cell_type": "markdown",
   "metadata": {},
   "source": [
    "#### O consumo esperado para um carro de 2000kg é de 9.834 km/l"
   ]
  }
 ],
 "metadata": {
  "kernelspec": {
   "display_name": "R",
   "language": "R",
   "name": "ir"
  },
  "language_info": {
   "codemirror_mode": "r",
   "file_extension": ".r",
   "mimetype": "text/x-r-source",
   "name": "R",
   "pygments_lexer": "r",
   "version": "3.6.3"
  }
 },
 "nbformat": 4,
 "nbformat_minor": 4
}
