{
 "cells": [
  {
   "cell_type": "code",
   "execution_count": 2,
   "id": "5faee491-adc2-4fe7-8809-3222aab6f42b",
   "metadata": {
    "tags": []
   },
   "outputs": [
    {
     "name": "stdout",
     "output_type": "stream",
     "text": [
      "Estatística de teste -5.0\n",
      "- Regra de decisão:\n",
      "Como a hipótese é se μ = 100 ; μ < 100, rejeitamos H0 se T < (-tα; n -1)\n",
      "Como α = 0.05, t0.05; 16 - 1 = 1.7533 (Usando a tabela).\n",
      "\n",
      "Rejeitamos H0 a 5% de significância. Há evidências de que houveram melhorias no tempo após a modificação.\n"
     ]
    }
   ],
   "source": [
    "import math\n",
    "\n",
    "def estatistica_de_teste(n, media, mi, desvioPadrao):\n",
    "    return ((media - mi)/(desvioPadrao / math.sqrt(n)))\n",
    "\n",
    "hipotese = 100\n",
    "n = 16\n",
    "media = 85\n",
    "desvioPadrao = 12\n",
    "\n",
    "t = estatistica_de_teste(n, media, hipotese, desvioPadrao)\n",
    "print(\"Estatística de teste\", t)\n",
    "\n",
    "print(\"- Regra de decisão:\")\n",
    "print(\"Como a hipótese é se μ = 100 ; μ < 100, rejeitamos H0 se T < (-tα; n -1)\")\n",
    "print(\"Como α = 0.05, t0.05; 16 - 1 = 1.7533 (Usando a tabela).\")\n",
    "\n",
    "regra_de_decisao = t < -1.753\n",
    "\n",
    "if (regra_de_decisao):\n",
    "    print(\"\\nRejeitamos H0 a 5% de significância. Há evidências de que houveram melhorias no tempo após a modificação.\")\n",
    "else:\n",
    "    print(\"Não há evidência suficiente para rejeitar H0 a 5% de significância\")\n",
    "\n"
   ]
  }
 ],
 "metadata": {
  "kernelspec": {
   "display_name": "Python 3",
   "language": "python",
   "name": "python3"
  },
  "language_info": {
   "codemirror_mode": {
    "name": "ipython",
    "version": 3
   },
   "file_extension": ".py",
   "mimetype": "text/x-python",
   "name": "python",
   "nbconvert_exporter": "python",
   "pygments_lexer": "ipython3",
   "version": "3.7.3"
  }
 },
 "nbformat": 4,
 "nbformat_minor": 5
}
