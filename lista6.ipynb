{
 "cells": [
  {
   "cell_type": "markdown",
   "id": "afcffd3f-92c3-4a8e-bff9-6665912b3cd7",
   "metadata": {
    "tags": []
   },
   "source": [
    "### 6.b)"
   ]
  },
  {
   "cell_type": "markdown",
   "id": "febdc779-33b4-4fa5-83cf-9eb088cf8de4",
   "metadata": {
    "tags": []
   },
   "source": [
    "Não é possivel reduzir o valor amostral, porque 0.45 <= 0.5 <= 0.55, ou seja o valor de p que utilizamos antes é um possível valor para o intervalo sugerido."
   ]
  }
 ],
 "metadata": {
  "kernelspec": {
   "display_name": "Python 3",
   "language": "python",
   "name": "python3"
  },
  "language_info": {
   "codemirror_mode": {
    "name": "ipython",
    "version": 3
   },
   "file_extension": ".py",
   "mimetype": "text/x-python",
   "name": "python",
   "nbconvert_exporter": "python",
   "pygments_lexer": "ipython3",
   "version": "3.8.8"
  }
 },
 "nbformat": 4,
 "nbformat_minor": 5
}
