{
 "cells": [
  {
   "cell_type": "code",
   "execution_count": 1,
   "id": "d7d2b549-495b-44f4-a47d-0b48efac79aa",
   "metadata": {
    "tags": []
   },
   "outputs": [],
   "source": [
    "def estimacao_proporcao(z, erro, q):\n",
    "    return ((z/erro) ** 2) * q\n",
    "def calcular_ic_conservativo(_p,z,n):\n",
    "    esquerda = _p - (z*math.sqrt((_p*(1 - _p))/n))\n",
    "    direita = _p + (z*math.sqrt((_p*(1 - _p))/n))\n",
    "    print(\"\\nIntervalo de Confiança: [\", esquerda, \";\", direita, \"]\")"
   ]
  },
  {
   "cell_type": "markdown",
   "id": "c6133e12-a85a-42e4-a129-6bdb3b5c5344",
   "metadata": {
    "tags": []
   },
   "source": [
    "### 7.a)"
   ]
  },
  {
   "cell_type": "code",
   "execution_count": 2,
   "id": "77be7d78-b503-4ed5-87a5-8d2423da9597",
   "metadata": {
    "tags": []
   },
   "outputs": [
    {
     "name": "stdout",
     "output_type": "stream",
     "text": [
      "Para 0.92, temos A(z) = 1 - ((1 - 0.92)/2) = 0.96\n",
      "Olhando para a tabela da normal, z = 1.75\n",
      "Além disso, como não conhecemos p, assumiremos que p é 0.5\n",
      "Assim, p*(1 - p) = 1/4\n",
      "\n",
      "Estimação da proporção: 1914.0625\n",
      "\n",
      "Como carros são contados em inteiros, devem ser vistoriados 1915 veículos\n"
     ]
    }
   ],
   "source": [
    "erro = 0.02\n",
    "probabilidade = 0.92\n",
    "\n",
    "print(\"Para 0.92, temos A(z) = 1 - ((1 - 0.92)/2) =\", 1 - ((1 - 0.92)/2))\n",
    "print(\"Olhando para a tabela da normal, z = 1.75\")\n",
    "\n",
    "print(\"Além disso, como não conhecemos p, assumiremos que p é 0.5\")\n",
    "print(\"Assim, p*(1 - p) = 1/4\")\n",
    "# A função estimacao_proporcao foi definida na questão 6.a\n",
    "n = estimacao_proporcao(1.75, erro, 1/4)\n",
    "\n",
    "print(\"\\nEstimação da proporção:\", n)\n",
    "print(\"\\nComo carros são contados em inteiros, devem ser vistoriados 1915 veículos\")\n",
    "\n",
    "\n"
   ]
  },
  {
   "cell_type": "markdown",
   "id": "2dcaa714-8a49-46d6-847b-ee051844034d",
   "metadata": {
    "tags": []
   },
   "source": [
    "### 7.b)"
   ]
  },
  {
   "cell_type": "code",
   "execution_count": 114,
   "id": "abf3f1c6-c7a5-4dd7-a889-5755b79522bc",
   "metadata": {
    "tags": []
   },
   "outputs": [
    {
     "name": "stdout",
     "output_type": "stream",
     "text": [
      "Como p não é superior a 30%, temos que p <= 0.3\n",
      "Sendo assim, p*(1 - p) = 0.21\n",
      "0.21 < 0.25, então:\n",
      "\n",
      "Estimação da proporção: 1607.8125\n",
      "\n",
      "Como carros são contados em inteiros, devem ser vistoriados 1608 veículos\n",
      "\n",
      "Tivemos uma redução de 307 veículos (Aproximadamente 16.03%)\n"
     ]
    }
   ],
   "source": [
    "print(\"Como p não é superior a 30%, temos que p <= 0.3\")\n",
    "p = 0.3\n",
    "print(\"Sendo assim, p*(1 - p) =\", p*(1 - p))\n",
    "print(\"0.21 < 0.25, então:\")\n",
    "# A função estimacao_proporcao foi definida na questão 6.a\n",
    "n = estimacao_proporcao(1.75, erro, 0.21)\n",
    "\n",
    "print(\"\\nEstimação da proporção:\", n)\n",
    "print(\"\\nComo carros são contados em inteiros, devem ser vistoriados 1608 veículos\")\n",
    "\n",
    "reducao = 1915 - 1608\n",
    "porcentagem = reducao * 100 / 1915\n",
    "\n",
    "print(\"\\nTivemos uma redução de %d veículos (Aproximadamente %.2f%%)\" % (reducao, porcentagem))\n"
   ]
  },
  {
   "cell_type": "markdown",
   "id": "234d0377-7a79-4d63-920f-1f1ebbf393f9",
   "metadata": {
    "tags": []
   },
   "source": [
    "### 7.c)"
   ]
  },
  {
   "cell_type": "code",
   "execution_count": 118,
   "id": "5e5ae221-6600-4c5e-a15d-6ed3e119abfb",
   "metadata": {
    "jupyter": {
     "source_hidden": true
    },
    "tags": []
   },
   "outputs": [
    {
     "name": "stdout",
     "output_type": "stream",
     "text": [
      "Para 95%, temos A(z) = 1 - ((1 - 0.95)/2) = 0.975\n",
      "Olhando para a tabela da normal, temos z = 1.96\n",
      "\n",
      "Intervalo de Confiança: [ 0.14329410138158835 ; 0.17670589861841166 ]\n"
     ]
    }
   ],
   "source": [
    "_p = 296/1850\n",
    "print(\"Para 95%, temos A(z) = 1 - ((1 - 0.95)/2) =\", 1 - ((1 - 0.95)/2))\n",
    "print(\"Olhando para a tabela da normal, temos z = 1.96\")\n",
    "# A função calcular_ic_conservativo foi definida na questão 6.c\n",
    "calcular_ic_conservativo(_p, 1.96, 1850)\n"
   ]
  },
  {
   "cell_type": "markdown",
   "id": "56f3a528-c8cd-4492-8e5e-3027a5ae747d",
   "metadata": {
    "tags": []
   },
   "source": [
    "### 7.d)"
   ]
  },
  {
   "cell_type": "code",
   "execution_count": 120,
   "id": "dec0d29f-8511-4c41-8676-efe5805d2660",
   "metadata": {
    "tags": []
   },
   "outputs": [
    {
     "name": "stdout",
     "output_type": "stream",
     "text": [
      "Para 95%, temos A(z) = 1 - ((1 - 0.95)/2) = 0.975\n",
      "Olhando para a tabela da normal, temos z = 1.96\n",
      "\n",
      "Intervalo de Confiança: [ 0.10621547027092441 ; 0.13594669189123776 ]\n"
     ]
    }
   ],
   "source": [
    "_p = 224/1850\n",
    "print(\"Para 95%, temos A(z) = 1 - ((1 - 0.95)/2) =\", 1 - ((1 - 0.95)/2))\n",
    "print(\"Olhando para a tabela da normal, temos z = 1.96\")\n",
    "# A função calcular_ic_conservativo foi definida na questão 6.c\n",
    "calcular_ic_conservativo(_p, 1.96, 1850)\n"
   ]
  },
  {
   "cell_type": "markdown",
   "id": "c877112e-67fc-42c4-a366-a276bdf1538b",
   "metadata": {
    "tags": []
   },
   "source": [
    "### 7.e)"
   ]
  },
  {
   "cell_type": "markdown",
   "id": "bd8e1c59-b5f2-4fd2-9104-e21e064a27b9",
   "metadata": {
    "tags": []
   },
   "source": [
    "A proporção diminuiu. A máxima da questão 7.d é menor que a mínima da questão 7.c."
   ]
  }
 ],
 "metadata": {
  "kernelspec": {
   "display_name": "Python 3",
   "language": "python",
   "name": "python3"
  },
  "language_info": {
   "codemirror_mode": {
    "name": "ipython",
    "version": 3
   },
   "file_extension": ".py",
   "mimetype": "text/x-python",
   "name": "python",
   "nbconvert_exporter": "python",
   "pygments_lexer": "ipython3",
   "version": "3.8.8"
  }
 },
 "nbformat": 4,
 "nbformat_minor": 5
}
