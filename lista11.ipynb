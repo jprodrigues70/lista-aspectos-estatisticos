{
 "cells": [
  {
   "cell_type": "markdown",
   "id": "efffebd8-57f2-4465-857c-65214802f83a",
   "metadata": {
    "tags": []
   },
   "source": [
    "### 11.a)"
   ]
  },
  {
   "cell_type": "code",
   "execution_count": 3,
   "id": "617c67f6-dfc3-4481-9d95-4e1dcfb5cf31",
   "metadata": {
    "tags": []
   },
   "outputs": [
    {
     "name": "stdout",
     "output_type": "stream",
     "text": [
      "Consumo esperado: 49.1 Kg\n"
     ]
    }
   ],
   "source": [
    "y = 0.5 + (1.8 * 27)\n",
    "print(\"Consumo esperado:\", y, \"Kg\")"
   ]
  },
  {
   "cell_type": "markdown",
   "id": "5fa18d8d-1176-4e12-bcdb-be5ee3644ff5",
   "metadata": {
    "tags": []
   },
   "source": [
    "### 11.b)"
   ]
  },
  {
   "cell_type": "code",
   "execution_count": null,
   "id": "af0396f8-dbd5-43e3-aff2-cf82dc9126cd",
   "metadata": {},
   "outputs": [],
   "source": [
    "print(\"A cada 1 grau, a equação é acrescida de 1.8 Kg, já que \")"
   ]
  }
 ],
 "metadata": {
  "kernelspec": {
   "display_name": "Python 3",
   "language": "python",
   "name": "python3"
  },
  "language_info": {
   "codemirror_mode": {
    "name": "ipython",
    "version": 3
   },
   "file_extension": ".py",
   "mimetype": "text/x-python",
   "name": "python",
   "nbconvert_exporter": "python",
   "pygments_lexer": "ipython3",
   "version": "3.8.8"
  }
 },
 "nbformat": 4,
 "nbformat_minor": 5
}
